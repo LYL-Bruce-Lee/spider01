{
 "cells": [
  {
   "cell_type": "code",
   "execution_count": 3,
   "metadata": {},
   "outputs": [],
   "source": [
    "import jieba\n",
    "\n",
    "text=open('../明朝那些事.txt','r',encoding='GBK')\n",
    "word=text.read()\n",
    "text.close()\n",
    "\n",
    "\n",
    "wordDict={}\n",
    "wordList=list(jieba.cut(word)) # 切开句子,成为一个一个的词语\n",
    "wordSet=set(wordList)\n",
    "\n",
    "\n",
    "# wordDict   我 3         你  6         他  8\n",
    "for w in wordSet:\n",
    "    wordDict[w]=wordList.count(w) # 每个词语出现的次数set\n",
    "sortWord=sorted(wordDict.items(),key=lambda x:x[1],reverse=True)  #  迭代对象wordDict   降序\n",
    "                       #sorted(L, key=lambda x:x[1])  \n",
    "\n",
    "\n",
    "\n",
    "\n",
    "for w in range(20):\n",
    "    print(sortWord[w])\n",
    "\n"
   ]
  },
  {
   "cell_type": "code",
   "execution_count": null,
   "metadata": {},
   "outputs": [],
   "source": []
  }
 ],
 "metadata": {
  "kernelspec": {
   "display_name": "Python 3",
   "language": "python",
   "name": "python3"
  }
 },
 "nbformat": 4,
 "nbformat_minor": 2
}
