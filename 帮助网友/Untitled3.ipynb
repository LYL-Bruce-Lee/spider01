{
 "cells": [
  {
   "cell_type": "code",
   "execution_count": 1,
   "metadata": {},
   "outputs": [],
   "source": [
    "import random\n",
    "blist=['石头','剪刀','布']\n"
   ]
  },
  {
   "cell_type": "code",
   "execution_count": 5,
   "metadata": {},
   "outputs": [],
   "source": [
    "\n",
    "s=int(random.randint(1,3))\n",
    "if s==1:\n",
    "    ind=\"石头\"\n",
    "elif s==2:\n",
    "    ind==\"剪刀\"\n",
    "elif s==3:\n",
    "    ind=\"布\"\n",
    "else:\n",
    "    pass\n",
    "\n"
   ]
  },
  {
   "cell_type": "code",
   "execution_count": 8,
   "metadata": {},
   "outputs": [],
   "source": [
    "# m=raw_input('输入 石头，剪刀，布，输入\"end\"结束游戏：')\n",
    "m='石头'"
   ]
  },
  {
   "cell_type": "code",
   "execution_count": 23,
   "metadata": {},
   "outputs": [
    {
     "ename": "SyntaxError",
     "evalue": "invalid character in identifier (<ipython-input-23-3ef70d878ed4>, line 12)",
     "output_type": "error",
     "traceback": [
      "\u001b[1;36m  File \u001b[1;32m\"<ipython-input-23-3ef70d878ed4>\"\u001b[1;36m, line \u001b[1;32m12\u001b[0m\n\u001b[1;33m    elif (m=='石头')：\u001b[0m\n\u001b[1;37m                  ^\u001b[0m\n\u001b[1;31mSyntaxError\u001b[0m\u001b[1;31m:\u001b[0m invalid character in identifier\n"
     ]
    }
   ],
   "source": [
    "\n",
    "if(m not in blist)and(m!='end'):\n",
    "    print(\"输入错误，请重新输入！\")\n",
    "elif(m not in blist)and(m=='end'):\n",
    "    print(\"\\n游戏退出中....\")\n",
    "#     break\n",
    "elif m==ind:\n",
    "    print(\"电脑出了：\"+ind+\",平局！\")\n",
    "# elif((m=='石头'and ind=='剪刀')or(m=='剪刀'and ind=='布')or(m=='布'and ind=='石头'))：\n",
    "#     print(\"电脑出了：\"+ind+\",你赢了！\")\n",
    "# elif (m=='石头'and ind =='布')or(m=='剪刀'and ind=='石头')or(m=='布'and ind=='剪刀')：\n",
    "elif (m=='石头'):\n",
    "    print(\"电脑出；1：\"+ind+\",你输了！\")\n",
    "else:\n",
    "    pass"
   ]
  },
  {
   "cell_type": "code",
   "execution_count": null,
   "metadata": {},
   "outputs": [],
   "source": []
  },
  {
   "cell_type": "code",
   "execution_count": null,
   "metadata": {},
   "outputs": [],
   "source": []
  },
  {
   "cell_type": "code",
   "execution_count": null,
   "metadata": {},
   "outputs": [],
   "source": []
  },
  {
   "cell_type": "code",
   "execution_count": null,
   "metadata": {},
   "outputs": [],
   "source": []
  },
  {
   "cell_type": "code",
   "execution_count": null,
   "metadata": {},
   "outputs": [],
   "source": []
  },
  {
   "cell_type": "code",
   "execution_count": null,
   "metadata": {},
   "outputs": [],
   "source": []
  },
  {
   "cell_type": "code",
   "execution_count": null,
   "metadata": {},
   "outputs": [],
   "source": []
  },
  {
   "cell_type": "code",
   "execution_count": null,
   "metadata": {},
   "outputs": [],
   "source": []
  },
  {
   "cell_type": "code",
   "execution_count": null,
   "metadata": {},
   "outputs": [],
   "source": []
  },
  {
   "cell_type": "code",
   "execution_count": null,
   "metadata": {},
   "outputs": [],
   "source": []
  }
 ],
 "metadata": {
  "kernelspec": {
   "display_name": "Python 3",
   "language": "python",
   "name": "python3"
  },
  "language_info": {
   "codemirror_mode": {
    "name": "ipython",
    "version": 3
   },
   "file_extension": ".py",
   "mimetype": "text/x-python",
   "name": "python",
   "nbconvert_exporter": "python",
   "pygments_lexer": "ipython3",
   "version": "3.6.4"
  }
 },
 "nbformat": 4,
 "nbformat_minor": 2
}
