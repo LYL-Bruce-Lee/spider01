{
 "cells": [
  {
   "cell_type": "code",
   "execution_count": 4,
   "metadata": {},
   "outputs": [
    {
     "name": "stdout",
     "output_type": "stream",
     "text": [
      "abc\n"
     ]
    }
   ],
   "source": [
    "from io import StringIO\n",
    "\n",
    "strFile =r\"D:\\spider01\\test.txt\"\n",
    "\n",
    "# 打开\n",
    "f = open(strFile, 'r')\n",
    "# 读取\n",
    "str = f.read()\n",
    "# 关闭\n",
    "f.close()\n",
    "# 输出文件全部内容\n",
    "print(str)\n",
    "\n",
    "# 打开\n",
    "f = open(strFile, 'w')\n",
    "# 写入\n",
    "f.write('hello world')\n",
    "# 关闭\n",
    "f.close()\n",
    "\n",
    "with open(strFile,'w') as f:\n",
    "    f.write('nihao')"
   ]
  },
  {
   "cell_type": "code",
   "execution_count": null,
   "metadata": {},
   "outputs": [],
   "source": []
  }
 ],
 "metadata": {
  "kernelspec": {
   "display_name": "Python 3",
   "language": "python",
   "name": "python3"
  },
  "language_info": {
   "codemirror_mode": {
    "name": "ipython",
    "version": 3
   },
   "file_extension": ".py",
   "mimetype": "text/x-python",
   "name": "python",
   "nbconvert_exporter": "python",
   "pygments_lexer": "ipython3",
   "version": "3.6.4"
  }
 },
 "nbformat": 4,
 "nbformat_minor": 2
}
