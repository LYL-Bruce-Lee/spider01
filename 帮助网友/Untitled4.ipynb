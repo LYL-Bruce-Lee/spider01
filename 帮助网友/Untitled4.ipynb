{
 "cells": [
  {
   "cell_type": "code",
   "execution_count": null,
   "metadata": {},
   "outputs": [],
   "source": [
    "import random,time\n",
    "blist=['石头','剪刀','布']\n",
    "while 1:\n",
    "    s=int(random.randint(1,3))\n",
    "    if s==1:\n",
    "        ind=\"石头\"\n",
    "    elif s==2:\n",
    "        ind=\"剪刀\"\n",
    "    elif s==3:\n",
    "        ind=\"布\"\n",
    "    # m=raw_input('输入 石头，剪刀，布，输入\"end\"结束游戏：')\n",
    "    m=\"石头\"\n",
    "    if(m not in blist)and(m!='end'):\n",
    "        print(\"输入错误，请重新输入！\")\n",
    "    elif(m not in blist)and(m=='end'):\n",
    "        print(\"\\n游戏退出中....\")\n",
    "    #     break\n",
    "    elif m==ind:\n",
    "        print(\"电脑出了：\"+ind+\",平局！\")\n",
    "    elif(m=='石头'and ind=='剪刀')or(m=='剪刀'and ind=='布')or(m=='布'and ind=='石头'):\n",
    "        print(\"电脑出了：\"+ind+\",你赢了！\")\n",
    "    elif(m=='石头'and ind =='布')or(m=='剪刀'and ind=='石头')or(m=='布'and ind=='剪刀'):\n",
    "        print(\"电脑出；1：\"+ind+\",你输了！\")\n",
    "    \n",
    "    time.sleep(3000)"
   ]
  },
  {
   "cell_type": "code",
   "execution_count": null,
   "metadata": {},
   "outputs": [],
   "source": []
  }
 ],
 "metadata": {
  "kernelspec": {
   "display_name": "Python 3",
   "language": "python",
   "name": "python3"
  },
  "language_info": {
   "codemirror_mode": {
    "name": "ipython",
    "version": 3
   },
   "file_extension": ".py",
   "mimetype": "text/x-python",
   "name": "python",
   "nbconvert_exporter": "python",
   "pygments_lexer": "ipython3",
   "version": "3.6.4"
  }
 },
 "nbformat": 4,
 "nbformat_minor": 2
}
