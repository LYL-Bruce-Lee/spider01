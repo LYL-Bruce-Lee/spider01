{
 "cells": [
  {
   "cell_type": "code",
   "execution_count": 29,
   "metadata": {},
   "outputs": [],
   "source": [
    "import re\n",
    "s='0.3万'\n",
    "# seauch_one=re.search(r'\\d+(.\\d+)', s)"
   ]
  },
  {
   "cell_type": "code",
   "execution_count": 35,
   "metadata": {},
   "outputs": [
    {
     "name": "stdout",
     "output_type": "stream",
     "text": [
      "3000\n"
     ]
    }
   ],
   "source": [
    "# print(seauch_one.group()*10000)\n",
    "\n",
    "\n",
    "\n",
    "def ten_thound(num_str):\n",
    "    num=float(num_str.group())*10000\n",
    "    return str(int(num))\n",
    " \n",
    "# 将匹配的数字乘以 10000\n",
    "def price(price_str):\n",
    "    s1=re.sub('万','',price_str)\n",
    "    pat=r'(?P<value>\\d+(.\\d+))'\n",
    "    s2=re.sub(pat, ten_thound, s1)\n",
    "    return s2\n",
    "\n",
    "print(price(s))"
   ]
  },
  {
   "cell_type": "code",
   "execution_count": null,
   "metadata": {},
   "outputs": [],
   "source": []
  }
 ],
 "metadata": {
  "kernelspec": {
   "display_name": "Python 3",
   "language": "python",
   "name": "python3"
  },
  "language_info": {
   "codemirror_mode": {
    "name": "ipython",
    "version": 3
   },
   "file_extension": ".py",
   "mimetype": "text/x-python",
   "name": "python",
   "nbconvert_exporter": "python",
   "pygments_lexer": "ipython3",
   "version": "3.6.4"
  }
 },
 "nbformat": 4,
 "nbformat_minor": 2
}
