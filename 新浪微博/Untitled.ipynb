{
 "cells": [
  {
   "cell_type": "code",
   "execution_count": 1,
   "metadata": {},
   "outputs": [],
   "source": [
    "import requests\n",
    "from lxml import etree\n",
    "import os\n",
    "import time\n",
    "import sys\n",
    "import re\n",
    "import json"
   ]
  },
  {
   "cell_type": "code",
   "execution_count": 2,
   "metadata": {},
   "outputs": [],
   "source": [
    "url=\"https://m.weibo.cn/api/container/getIndex?containerid=100103type%3D1%26q%3D%E6%B1%82%E8%B4%AD\""
   ]
  },
  {
   "cell_type": "code",
   "execution_count": 50,
   "metadata": {},
   "outputs": [],
   "source": [
    "html=requests.get(url,timeout=3).content\n",
    "html_dict=json.loads(html)\n"
   ]
  },
  {
   "cell_type": "code",
   "execution_count": null,
   "metadata": {},
   "outputs": [],
   "source": []
  },
  {
   "cell_type": "code",
   "execution_count": null,
   "metadata": {},
   "outputs": [],
   "source": []
  },
  {
   "cell_type": "code",
   "execution_count": null,
   "metadata": {},
   "outputs": [],
   "source": []
  },
  {
   "cell_type": "code",
   "execution_count": 91,
   "metadata": {
    "scrolled": true
   },
   "outputs": [
    {
     "name": "stdout",
     "output_type": "stream",
     "text": [
      "{'card_type': 9, 'card_type_name': '微博', 'itemid': 'seqid:433626412|type:1|t:|pos:1-2-0|q:求购|ext:&cate=26&mid=4221141079767269&', 'actionlog': {'act_code': 554, 'ext': 'seqid:433626412|type:1|t:|pos:1-2-0|q:求购|ext:&cate=26&mid=4221141079767269&', 'luicode': '', 'uicode': '', 'fid': '100103type=1&q=求购'}, 'display_arrow': 0, 'show_type': 1, 'mblog': {'created_at': '6小时前', 'id': '4221141079767269', 'idstr': '4221141079767269', 'mid': '4221141079767269', 'can_edit': False, 'text': '【西媒：皇马考虑今夏挖角拉什福德】《每日体育报》消息称，由于拉什福德目前在穆里尼奥手底下机会受到限制，皇马准备在今夏报价求购这名英格兰前锋。西班牙媒体消息称，这名20岁的球员已经成为了皇马主席弗洛伦蒂诺的潜在目标，银河战舰考虑在下赛季开始前补强球队的锋线。拉什福德年轻且具备成为世界 \\u200b <a data-url=\"http://mapi/653d411ely1fpo0gum8hij20ci0703z1\" target=\"_blank\" href=\"https://weibo.cn/sinaurl/blocked77dab2e0?luicode=10000011&lfid=100103type%3D1%26q%3D%E6%B1%82%E8%B4%AD&u=http%3A%2F%2Fmapi%2F653d411ely1fpo0gum8hij20ci0703z1&ep=G8RYvEYUB%252C1698513182%252CG8RYvEYUB%252C1698513182\" class=\"\"><span class=\"url-icon\"><img src=\"//h5.sinaimg.cn/upload/2015/01/21/20/timeline_card_small_photo_default.png\"></span></i><span class=\"surl-text\">查看图片</a>...<a href=\"/status/4221141079767269\">全文</a>', 'textLength': 417, 'source': 'iPhone客户端', 'favorited': False, 'is_paid': False, 'mblog_vip_type': 0, 'user': {'id': 1698513182, 'screen_name': '虎扑足球', 'profile_image_url': 'https://tvax2.sinaimg.cn/crop.73.73.1053.1053.180/653d411ely8fi7p76amzdj20xc0xc1kx.jpg', 'profile_url': 'https://m.weibo.cn/u/1698513182?uid=1698513182&luicode=10000011&lfid=100103type%3D1%26q%3D%E6%B1%82%E8%B4%AD', 'statuses_count': 127360, 'verified': True, 'verified_type': 3, 'verified_type_ext': 0, 'verified_reason': '虎扑足球网官方微博 soccer.hupu.com', 'close_blue_v': False, 'description': '虎扑足球——世界是一个竞技场 。消息内容覆盖欧洲五大联赛和国内所有足球赛事。更多精彩，关注WX订阅号:HUPUzq。', 'gender': 'f', 'mbtype': 2, 'urank': 46, 'mbrank': 3, 'follow_me': False, 'following': False, 'followers_count': 2941233, 'follow_count': 1638, 'cover_image_phone': 'https://wx1.sinaimg.cn/crop.0.0.640.640.640/653d411egy1flzwcceguhj20ku0kutcl.jpg', 'avatar_hd': 'https://wx2.sinaimg.cn/orj480/653d411ely8fi7p76amzdj20xc0xc1kx.jpg', 'like': False, 'like_me': False, 'badge': {'anniversary': 1, 'dzwbqlx_2016': 1, 'follow_whitelist_video': 1, 'video_attention': 1, 'hongbao_2018': 1, 'user_name_certificate': 1}}, 'picStatus': '0:1', 'reposts_count': 10, 'comments_count': 73, 'attitudes_count': 31, 'pending_approval_count': 0, 'isLongText': True, 'longText': {'longTextContent': '【西媒：皇马考虑今夏挖角拉什福德】《每日体育报》消息称，由于拉什福德目前在穆里尼奥手底下机会受到限制，皇马准备在今夏报价求购这名英格兰前锋。西班牙媒体消息称，这名20岁的球员已经成为了皇马主席弗洛伦蒂诺的潜在目标，银河战舰考虑在下赛季开始前补强球队的锋线。拉什福德年轻且具备成为世界级球星的潜质，拉什福德非常符合齐达内的建队要求，皇马主席希望利用好他在穆里尼奥麾下缺乏出场时间来将其挖角到伯纳乌球场。http://t.cn/Rn9eG0P', 'url_objects': [{'url_ori': 'http://t.cn/Rn9eG0P', 'object_id': '1022:2309351003204221141119020219', 'info': {'url_short': 'http://t.cn/Rn9eG0P', 'url_long': 'http://lite.hupu.com/s?u=fifa/news/2278952&type=1&entrance=26', 'type': 39, 'result': True, 'title': '', 'description': '', 'last_modified': 1521881931, 'transcode': 0}, 'object': {'object_id': '1022:2309351003204221141119020219', 'containerid': '2309351003204221141119020219', 'object_domain_id': '1022', 'object_type': 'article', 'safe_status': 1, 'show_status': '10', 'act_status': '00', 'last_modified': 'Sat Mar 24 16:58:51 CST 2018', 'timestamp': 1521881931313, 'uuid': 4221141118904441, 'activate_status': '0', 'object': {'id': '1022:2309351003204221141119020219', 'target_url': 'https://media.weibo.cn/article?id=2309351003204221141119020219', 'object_type': 'article', 'article_type': 'top_article', 'sub_article_type': '', 'display_name': '西媒：皇马考虑今夏挖角拉什福德', 'url': 'http://weibo.com/ttarticle/p/show?id=2309351003204221141119020219', 'create_at': '2018-03-24 16:36:42', 'summary': '', 'target_oid': '', 'image': {'url': 'http://tc.sinaimg.cn/maxwidth.2048/tc.service.weibo.com/c2_hoopchina_com_cn/86fa8f6fcae9662d01b7e9a40ddfe828.jpg', 'height': 450, 'width': 800}, 'ispay': 0, 'is_vclub': 0, 'oid': '2974957861', 'author': {'id': '2974957861', 'object_type': 'person', 'display_name': '虎扑App', 'avatar_large': 'http://tvax1.sinaimg.cn/crop.0.0.1022.1022.180/b1524125gy1fi6u586vcwj20sg0sgmxl.jpg'}, 'full_image': {'height': 562, 'width': 1000, 'url': 'http://tc.sinaimg.cn/maxwidth.2048/tc.service.weibo.com/c2_hoopchina_com_cn/86fa8f6fcae9662d01b7e9a40ddfe828.jpg'}, 'ourl': 'http://lite.hupu.com/s?u=fifa/news/2278952&type=1&entrance=26', 'biz': {'biz_id': '230935', 'containerid': '2309351003204221141119020219'}, 'sub_mid': '4221141121820652'}}, 'like_count': 0, 'isActionType': False, 'follower_count': 0, 'asso_like_count': 0, 'card_info_un_integrity': False, 'super_topic_status_count': 0, 'super_topic_photo_count': 0}]}, 'visible': {'type': 0, 'list_id': 0}, 'rid': '0_0_0_2666857146868070176', 'more_info_type': 0, 'content_auth': 0, 'status': 0, 'social_time_info': '{\"time\":{\"cat\":\"1\",\"action\":[{\"time\":\"1521885417\",\"type\":\"1\",\"count\":\"20\"}]}}', 'ac_stat': '774-762-1055616506347523-18007034082502563618-6818342484766858925-109617867523244041-1153273348656554016-11821448511774-480-23850-592553-1521885417-0-1-1973-197-100-1521881921-20354', 'title': {'text': '热门'}, 'itemid': 'seqid:433626412|type:1|t:|pos:1-2-0|q:求购|ext:&cate=26&mid=4221141079767269&', 'page_info': {'page_pic': {'url': 'https://tc.sinaimg.cn/maxwidth.2048/tc.service.weibo.com/c2_hoopchina_com_cn/86fa8f6fcae9662d01b7e9a40ddfe828.jpg'}, 'page_url': 'http://media.weibo.cn/article?object_id=1022%3A2309351003204221141119020219&luicode=10000011&lfid=100103type%3D1%26q%3D%E6%B1%82%E8%B4%AD&id=2309351003204221141119020219', 'page_title': '虎扑App', 'content1': '西媒：皇马考虑今夏挖角拉什福德', 'content2': '', 'icon': 'https://h5.sinaimg.cn/upload/2016/12/28/14/feed_headlines_icon_flash20161228_2.png', 'type': 'article'}, 'bid': 'G8RYvEYUB'}, 'scheme': 'https://m.weibo.cn/status/G8RYvEYUB?mblogid=G8RYvEYUB&luicode=10000011&lfid=100103type%3D1%26q%3D%E6%B1%82%E8%B4%AD'}\n"
     ]
    }
   ],
   "source": [
    "\n",
    "# cards  1     card_group      0       mblog  西梅皇马的信息\n",
    "# cards  1     card_group      1       mblog  高晓松  的信息\n",
    "\n",
    "# cards  2     card_group      0       mblog  韦恩斯破产的信息\n",
    "\n",
    "# cards  4     card_group      0-7       mblog  预算2亿的信息\n",
    "\n",
    "\n",
    "gaoxiaosong_dict_cards_1=html_dict['data']['cards'][1]['card_group'][0]\n",
    "# gaoxiaosong_dict=html_dict['data']['cards'][1]['card_group'][1]"
   ]
  },
  {
   "cell_type": "code",
   "execution_count": 92,
   "metadata": {},
   "outputs": [
    {
     "name": "stdout",
     "output_type": "stream",
     "text": [
      "{'author': '虎扑足球', 'time': '6小时前', 'content': '【西媒：皇马考虑今夏挖角拉什福德】《每日体育报》消息称，由于拉什福德目前在穆里尼奥手底下机会受到限制，皇马准备在今夏报价求购这名英格兰前锋。西班牙媒体消息称，这名20岁的球员已经成为了皇马主席弗洛伦蒂诺的潜在目标，银河战舰考虑在下赛季开始前补强球队的锋线。拉什福德年轻且具备成为世界 \\u200b 查看图片...全文'}\n"
     ]
    }
   ],
   "source": [
    "blog_author=gaoxiaosong_dict_cards_1['mblog']['user']['screen_name']\n",
    "blog_write_time=gaoxiaosong_dict_cards_1['mblog']['created_at']\n",
    "blog_content=gaoxiaosong_dict_cards_1['mblog']['text']\n",
    "blog_content = etree.HTML(blog_content)\n",
    "blog_content = blog_content.xpath(\"*\")[0].xpath('string(.)').strip()\n",
    "blog_dict={\n",
    "    'author':blog_author,\n",
    "    'time':blog_write_time,\n",
    "    'content':blog_content\n",
    "}\n",
    "print(blog_dict)"
   ]
  },
  {
   "cell_type": "code",
   "execution_count": 93,
   "metadata": {},
   "outputs": [
    {
     "name": "stdout",
     "output_type": "stream",
     "text": [
      "【韦恩斯坦影业正式启动破产程序 达成假马竞标合同】<a class='k' href='https://m.weibo.cn/k/%E9%9F%A6%E6%81%A9%E6%96%AF%E5%9D%A6%E6%80%A7%E9%AA%9A%E6%89%B0%E4%BA%8B%E4%BB%B6?from=feed'>#韦恩斯坦性骚扰事件#</a> 后，其联合创办的韦恩斯坦影业正式启动破产程序，已经提交了破产申请文件，私人股本公司Lantern Capital Partners的一个分公司已求购其资产。双方达成假马竞标合同，基本上将收购韦恩斯坦影业所有资产。<a data-url=\"http://t.cn/Rnf82iG\" href=\"http://feed.mix.sina.com.cn/link_card/redirect?url=http%3A%2F%2Fent.sina.com.cn%2Fm%2Ff%2F2018-03-20%2Fdoc-ifyskeuc7212225.shtml&sendweibouid=1642591402&sinainternalbrowser=topnav&share_menu=1&luicode=10000011&lfid=100103type%3D1%26q%3D%E6%B1%82%E8%B4%AD&ep=G8iobveDF%252C1642591402%252CG8iobveDF%252C1642591402\" data-hide=\"\"><span class=\"url-icon\"><img src=\"https://h5.sinaimg.cn/upload/2015/09/25/3/timeline_card_small_web_default.png\"></span></i><span class=\"surl-text\">韦恩斯坦影业启动破产程序</a> ​\n"
     ]
    }
   ],
   "source": [
    "sina_text=html_dict['data']['cards'][2]['card_group'][0]['mblog']['text']\n",
    "# sina_text=html_dict['data']['cards'][1]['card_group'][0]['mblog']['text']\n",
    "print(sina_text)"
   ]
  },
  {
   "cell_type": "code",
   "execution_count": 46,
   "metadata": {},
   "outputs": [],
   "source": [
    "selector = etree.HTML(sina_text)"
   ]
  },
  {
   "cell_type": "code",
   "execution_count": 48,
   "metadata": {},
   "outputs": [
    {
     "name": "stdout",
     "output_type": "stream",
     "text": [
      "若干年前，读了《侠隐》，爱不释手，急忙找作者张北海先生求购电影改编权，被告知已被姜文买走。郁闷三秒之后，破涕为笑，姜文拍肯定比我拍得好看多了。若干年后，电影拍成。刚和老姜说好，他会来《晓说》，聊一壶旧时代的北京。 姜文电影官微的秒拍视频 ​\n"
     ]
    }
   ],
   "source": [
    "bloger = selector.xpath(\"*\")[0].xpath('string(.)').strip()\n",
    "print(bloger)"
   ]
  },
  {
   "cell_type": "code",
   "execution_count": null,
   "metadata": {},
   "outputs": [],
   "source": []
  },
  {
   "cell_type": "code",
   "execution_count": null,
   "metadata": {},
   "outputs": [],
   "source": []
  },
  {
   "cell_type": "code",
   "execution_count": null,
   "metadata": {},
   "outputs": [],
   "source": []
  },
  {
   "cell_type": "code",
   "execution_count": null,
   "metadata": {},
   "outputs": [],
   "source": []
  },
  {
   "cell_type": "code",
   "execution_count": null,
   "metadata": {},
   "outputs": [],
   "source": []
  },
  {
   "cell_type": "code",
   "execution_count": null,
   "metadata": {},
   "outputs": [],
   "source": []
  },
  {
   "cell_type": "code",
   "execution_count": null,
   "metadata": {},
   "outputs": [],
   "source": []
  },
  {
   "cell_type": "code",
   "execution_count": null,
   "metadata": {},
   "outputs": [],
   "source": []
  },
  {
   "cell_type": "code",
   "execution_count": null,
   "metadata": {},
   "outputs": [],
   "source": []
  },
  {
   "cell_type": "code",
   "execution_count": null,
   "metadata": {},
   "outputs": [],
   "source": []
  },
  {
   "cell_type": "code",
   "execution_count": null,
   "metadata": {},
   "outputs": [],
   "source": []
  },
  {
   "cell_type": "code",
   "execution_count": null,
   "metadata": {},
   "outputs": [],
   "source": []
  },
  {
   "cell_type": "code",
   "execution_count": null,
   "metadata": {},
   "outputs": [],
   "source": []
  }
 ],
 "metadata": {
  "kernelspec": {
   "display_name": "Python 3",
   "language": "python",
   "name": "python3"
  },
  "language_info": {
   "codemirror_mode": {
    "name": "ipython",
    "version": 3
   },
   "file_extension": ".py",
   "mimetype": "text/x-python",
   "name": "python",
   "nbconvert_exporter": "python",
   "pygments_lexer": "ipython3",
   "version": "3.6.4"
  }
 },
 "nbformat": 4,
 "nbformat_minor": 2
}
